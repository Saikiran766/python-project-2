{
 "cells": [
  {
   "cell_type": "code",
   "execution_count": 2,
   "id": "f90c864b-4cc6-4d47-812e-00bd1d927562",
   "metadata": {},
   "outputs": [
    {
     "name": "stdout",
     "output_type": "stream",
     "text": [
      "   |   |   \n",
      "---+---+---\n",
      "   |   |   \n",
      "---+---+---\n",
      "   |   |   \n",
      "Player X's turn.\n"
     ]
    },
    {
     "name": "stdin",
     "output_type": "stream",
     "text": [
      "Enter row and column (0-2) separated by a space:  0 0\n"
     ]
    },
    {
     "name": "stdout",
     "output_type": "stream",
     "text": [
      " X |   |   \n",
      "---+---+---\n",
      "   |   |   \n",
      "---+---+---\n",
      "   |   |   \n",
      "Player O's turn.\n"
     ]
    },
    {
     "name": "stdin",
     "output_type": "stream",
     "text": [
      "Enter row and column (0-2) separated by a space:  1 1\n"
     ]
    },
    {
     "name": "stdout",
     "output_type": "stream",
     "text": [
      " X |   |   \n",
      "---+---+---\n",
      "   | O |   \n",
      "---+---+---\n",
      "   |   |   \n",
      "Player X's turn.\n"
     ]
    },
    {
     "name": "stdin",
     "output_type": "stream",
     "text": [
      "Enter row and column (0-2) separated by a space:  1 0\n"
     ]
    },
    {
     "name": "stdout",
     "output_type": "stream",
     "text": [
      " X |   |   \n",
      "---+---+---\n",
      " X | O |   \n",
      "---+---+---\n",
      "   |   |   \n",
      "Player O's turn.\n"
     ]
    },
    {
     "name": "stdin",
     "output_type": "stream",
     "text": [
      "Enter row and column (0-2) separated by a space:  2 0\n"
     ]
    },
    {
     "name": "stdout",
     "output_type": "stream",
     "text": [
      " X |   |   \n",
      "---+---+---\n",
      " X | O |   \n",
      "---+---+---\n",
      " O |   |   \n",
      "Player X's turn.\n"
     ]
    },
    {
     "name": "stdin",
     "output_type": "stream",
     "text": [
      "Enter row and column (0-2) separated by a space:  0 2\n"
     ]
    },
    {
     "name": "stdout",
     "output_type": "stream",
     "text": [
      " X |   | X \n",
      "---+---+---\n",
      " X | O |   \n",
      "---+---+---\n",
      " O |   |   \n",
      "Player O's turn.\n"
     ]
    },
    {
     "name": "stdin",
     "output_type": "stream",
     "text": [
      "Enter row and column (0-2) separated by a space:  0 1\n"
     ]
    },
    {
     "name": "stdout",
     "output_type": "stream",
     "text": [
      " X | O | X \n",
      "---+---+---\n",
      " X | O |   \n",
      "---+---+---\n",
      " O |   |   \n",
      "Player X's turn.\n"
     ]
    },
    {
     "name": "stdin",
     "output_type": "stream",
     "text": [
      "Enter row and column (0-2) separated by a space:  2 1\n"
     ]
    },
    {
     "name": "stdout",
     "output_type": "stream",
     "text": [
      " X | O | X \n",
      "---+---+---\n",
      " X | O |   \n",
      "---+---+---\n",
      " O | X |   \n",
      "Player O's turn.\n"
     ]
    },
    {
     "name": "stdin",
     "output_type": "stream",
     "text": [
      "Enter row and column (0-2) separated by a space:  1 2\n"
     ]
    },
    {
     "name": "stdout",
     "output_type": "stream",
     "text": [
      " X | O | X \n",
      "---+---+---\n",
      " X | O | O \n",
      "---+---+---\n",
      " O | X |   \n",
      "Player X's turn.\n"
     ]
    },
    {
     "name": "stdin",
     "output_type": "stream",
     "text": [
      "Enter row and column (0-2) separated by a space:  2 2\n"
     ]
    },
    {
     "name": "stdout",
     "output_type": "stream",
     "text": [
      " X | O | X \n",
      "---+---+---\n",
      " X | O | O \n",
      "---+---+---\n",
      " O | X | X \n",
      "It's a draw!\n"
     ]
    }
   ],
   "source": [
    "def print_board(board):\n",
    "    for i, row in enumerate(board):\n",
    "        print(\" \" + \" | \".join(row) + \" \")  \n",
    "        if i < 2:\n",
    "            print(\"---+---+---\")\n",
    "\n",
    "def check_winner(board, player):\n",
    "    for row in board:\n",
    "        if all(s == player for s in row):\n",
    "            return True\n",
    "    for col in range(3):\n",
    "        if all(board[row][col] == player for row in range(3)):\n",
    "            return True\n",
    "    if all(board[i][i] == player for i in range(3)) or all(board[i][2 - i] == player for i in range(3)):\n",
    "        return True\n",
    "    return False\n",
    "\n",
    "def tic_tac_toe():\n",
    "    board = [[\" \" for _ in range(3)] for _ in range(3)]\n",
    "    current_player = \"X\"\n",
    "\n",
    "    for turn in range(9):\n",
    "        print_board(board)\n",
    "        print(f\"Player {current_player}'s turn.\")\n",
    "\n",
    "        while True:\n",
    "            try:\n",
    "                row, col = map(int, input(\"Enter row and column (0-2) separated by a space: \").split())\n",
    "                if board[row][col] == \" \":\n",
    "                    board[row][col] = current_player\n",
    "                    break\n",
    "                else:\n",
    "                    print(\"That spot is already taken. Try again.\")\n",
    "            except (ValueError, IndexError):\n",
    "                print(\"Invalid input. Enter two numbers between 0 and 2, separated by a space.\")\n",
    "\n",
    "        if check_winner(board, current_player):\n",
    "            print_board(board)\n",
    "            print(f\"Player {current_player} wins!\")\n",
    "            return\n",
    "\n",
    "        current_player = \"O\" if current_player == \"X\" else \"X\"\n",
    "\n",
    "    print_board(board)\n",
    "    print(\"It's a draw!\")\n",
    "\n",
    "if __name__ == \"__main__\":\n",
    "    tic_tac_toe()"
   ]
  }
 ],
 "metadata": {
  "kernelspec": {
   "display_name": "Python 3 (ipykernel)",
   "language": "python",
   "name": "python3"
  },
  "language_info": {
   "codemirror_mode": {
    "name": "ipython",
    "version": 3
   },
   "file_extension": ".py",
   "mimetype": "text/x-python",
   "name": "python",
   "nbconvert_exporter": "python",
   "pygments_lexer": "ipython3",
   "version": "3.13.2"
  }
 },
 "nbformat": 4,
 "nbformat_minor": 5
}
